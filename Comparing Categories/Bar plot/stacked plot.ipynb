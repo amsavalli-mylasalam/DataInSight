{
 "cells": [
  {
   "cell_type": "code",
   "execution_count": 1,
   "id": "9abb565f",
   "metadata": {},
   "outputs": [],
   "source": [
    "import pandas as pd\n",
    "import numpy as np\n",
    "import matplotlib.pyplot as plt"
   ]
  },
  {
   "cell_type": "code",
   "execution_count": 2,
   "id": "5ef7f441",
   "metadata": {},
   "outputs": [
    {
     "data": {
      "text/html": [
       "<div>\n",
       "<style scoped>\n",
       "    .dataframe tbody tr th:only-of-type {\n",
       "        vertical-align: middle;\n",
       "    }\n",
       "\n",
       "    .dataframe tbody tr th {\n",
       "        vertical-align: top;\n",
       "    }\n",
       "\n",
       "    .dataframe thead th {\n",
       "        text-align: right;\n",
       "    }\n",
       "</style>\n",
       "<table border=\"1\" class=\"dataframe\">\n",
       "  <thead>\n",
       "    <tr style=\"text-align: right;\">\n",
       "      <th></th>\n",
       "      <th>s.no</th>\n",
       "      <th>age</th>\n",
       "      <th>division_name</th>\n",
       "      <th>department_name</th>\n",
       "      <th>class_name</th>\n",
       "      <th>clothing_id</th>\n",
       "      <th>title</th>\n",
       "      <th>review_text</th>\n",
       "      <th>alike_feedback_count</th>\n",
       "      <th>rating</th>\n",
       "      <th>recommend_index</th>\n",
       "    </tr>\n",
       "  </thead>\n",
       "  <tbody>\n",
       "    <tr>\n",
       "      <th>0</th>\n",
       "      <td>0</td>\n",
       "      <td>40</td>\n",
       "      <td>General</td>\n",
       "      <td>Bottoms</td>\n",
       "      <td>Jeans</td>\n",
       "      <td>1028</td>\n",
       "      <td>Amazing fit and wash</td>\n",
       "      <td>Like other reviewers i was hesitant to spend t...</td>\n",
       "      <td>0</td>\n",
       "      <td>5</td>\n",
       "      <td>1</td>\n",
       "    </tr>\n",
       "    <tr>\n",
       "      <th>1</th>\n",
       "      <td>1</td>\n",
       "      <td>62</td>\n",
       "      <td>General Petite</td>\n",
       "      <td>Tops</td>\n",
       "      <td>Blouses</td>\n",
       "      <td>850</td>\n",
       "      <td>Lovely and unique!</td>\n",
       "      <td>As is true of a bunch of the fall clothing pho...</td>\n",
       "      <td>12</td>\n",
       "      <td>5</td>\n",
       "      <td>1</td>\n",
       "    </tr>\n",
       "    <tr>\n",
       "      <th>2</th>\n",
       "      <td>2</td>\n",
       "      <td>47</td>\n",
       "      <td>General Petite</td>\n",
       "      <td>Bottoms</td>\n",
       "      <td>Skirts</td>\n",
       "      <td>993</td>\n",
       "      <td>Meh</td>\n",
       "      <td>I so wanted this skirt to work, love the desig...</td>\n",
       "      <td>3</td>\n",
       "      <td>1</td>\n",
       "      <td>0</td>\n",
       "    </tr>\n",
       "    <tr>\n",
       "      <th>3</th>\n",
       "      <td>3</td>\n",
       "      <td>45</td>\n",
       "      <td>General Petite</td>\n",
       "      <td>Bottoms</td>\n",
       "      <td>Pants</td>\n",
       "      <td>1068</td>\n",
       "      <td>Wow</td>\n",
       "      <td>Love love this! i was hesitant to buy this at ...</td>\n",
       "      <td>0</td>\n",
       "      <td>5</td>\n",
       "      <td>1</td>\n",
       "    </tr>\n",
       "    <tr>\n",
       "      <th>4</th>\n",
       "      <td>4</td>\n",
       "      <td>37</td>\n",
       "      <td>Initmates</td>\n",
       "      <td>Intimate</td>\n",
       "      <td>Swim</td>\n",
       "      <td>24</td>\n",
       "      <td>Great for bigger busts</td>\n",
       "      <td>I absolutely love the retro look of this swims...</td>\n",
       "      <td>0</td>\n",
       "      <td>5</td>\n",
       "      <td>1</td>\n",
       "    </tr>\n",
       "  </tbody>\n",
       "</table>\n",
       "</div>"
      ],
      "text/plain": [
       "   s.no  age   division_name department_name class_name  clothing_id  \\\n",
       "0     0   40         General         Bottoms      Jeans         1028   \n",
       "1     1   62  General Petite            Tops    Blouses          850   \n",
       "2     2   47  General Petite         Bottoms     Skirts          993   \n",
       "3     3   45  General Petite         Bottoms      Pants         1068   \n",
       "4     4   37       Initmates        Intimate       Swim           24   \n",
       "\n",
       "                    title                                        review_text  \\\n",
       "0    Amazing fit and wash  Like other reviewers i was hesitant to spend t...   \n",
       "1      Lovely and unique!  As is true of a bunch of the fall clothing pho...   \n",
       "2                     Meh  I so wanted this skirt to work, love the desig...   \n",
       "3                     Wow  Love love this! i was hesitant to buy this at ...   \n",
       "4  Great for bigger busts  I absolutely love the retro look of this swims...   \n",
       "\n",
       "   alike_feedback_count  rating  recommend_index   \n",
       "0                     0       5                 1  \n",
       "1                    12       5                 1  \n",
       "2                     3       1                 0  \n",
       "3                     0       5                 1  \n",
       "4                     0       5                 1  "
      ]
     },
     "execution_count": 2,
     "metadata": {},
     "output_type": "execute_result"
    }
   ],
   "source": [
    "df=pd.read_csv('dress_review.csv')\n",
    "df.head()"
   ]
  },
  {
   "cell_type": "markdown",
   "id": "9e83c0b7",
   "metadata": {},
   "source": [
    "## Remove Unnecessary Features"
   ]
  },
  {
   "cell_type": "code",
   "execution_count": 3,
   "id": "06378ee2",
   "metadata": {},
   "outputs": [
    {
     "data": {
      "text/html": [
       "<div>\n",
       "<style scoped>\n",
       "    .dataframe tbody tr th:only-of-type {\n",
       "        vertical-align: middle;\n",
       "    }\n",
       "\n",
       "    .dataframe tbody tr th {\n",
       "        vertical-align: top;\n",
       "    }\n",
       "\n",
       "    .dataframe thead th {\n",
       "        text-align: right;\n",
       "    }\n",
       "</style>\n",
       "<table border=\"1\" class=\"dataframe\">\n",
       "  <thead>\n",
       "    <tr style=\"text-align: right;\">\n",
       "      <th></th>\n",
       "      <th>age</th>\n",
       "      <th>division_name</th>\n",
       "      <th>department_name</th>\n",
       "      <th>class_name</th>\n",
       "      <th>title</th>\n",
       "      <th>review_text</th>\n",
       "      <th>alike_feedback_count</th>\n",
       "      <th>rating</th>\n",
       "      <th>recommend_index</th>\n",
       "    </tr>\n",
       "  </thead>\n",
       "  <tbody>\n",
       "    <tr>\n",
       "      <th>0</th>\n",
       "      <td>40</td>\n",
       "      <td>General</td>\n",
       "      <td>Bottoms</td>\n",
       "      <td>Jeans</td>\n",
       "      <td>Amazing fit and wash</td>\n",
       "      <td>Like other reviewers i was hesitant to spend t...</td>\n",
       "      <td>0</td>\n",
       "      <td>5</td>\n",
       "      <td>1</td>\n",
       "    </tr>\n",
       "    <tr>\n",
       "      <th>1</th>\n",
       "      <td>62</td>\n",
       "      <td>General Petite</td>\n",
       "      <td>Tops</td>\n",
       "      <td>Blouses</td>\n",
       "      <td>Lovely and unique!</td>\n",
       "      <td>As is true of a bunch of the fall clothing pho...</td>\n",
       "      <td>12</td>\n",
       "      <td>5</td>\n",
       "      <td>1</td>\n",
       "    </tr>\n",
       "    <tr>\n",
       "      <th>2</th>\n",
       "      <td>47</td>\n",
       "      <td>General Petite</td>\n",
       "      <td>Bottoms</td>\n",
       "      <td>Skirts</td>\n",
       "      <td>Meh</td>\n",
       "      <td>I so wanted this skirt to work, love the desig...</td>\n",
       "      <td>3</td>\n",
       "      <td>1</td>\n",
       "      <td>0</td>\n",
       "    </tr>\n",
       "    <tr>\n",
       "      <th>3</th>\n",
       "      <td>45</td>\n",
       "      <td>General Petite</td>\n",
       "      <td>Bottoms</td>\n",
       "      <td>Pants</td>\n",
       "      <td>Wow</td>\n",
       "      <td>Love love this! i was hesitant to buy this at ...</td>\n",
       "      <td>0</td>\n",
       "      <td>5</td>\n",
       "      <td>1</td>\n",
       "    </tr>\n",
       "    <tr>\n",
       "      <th>4</th>\n",
       "      <td>37</td>\n",
       "      <td>Initmates</td>\n",
       "      <td>Intimate</td>\n",
       "      <td>Swim</td>\n",
       "      <td>Great for bigger busts</td>\n",
       "      <td>I absolutely love the retro look of this swims...</td>\n",
       "      <td>0</td>\n",
       "      <td>5</td>\n",
       "      <td>1</td>\n",
       "    </tr>\n",
       "  </tbody>\n",
       "</table>\n",
       "</div>"
      ],
      "text/plain": [
       "   age   division_name department_name class_name                   title  \\\n",
       "0   40         General         Bottoms      Jeans    Amazing fit and wash   \n",
       "1   62  General Petite            Tops    Blouses      Lovely and unique!   \n",
       "2   47  General Petite         Bottoms     Skirts                     Meh   \n",
       "3   45  General Petite         Bottoms      Pants                     Wow   \n",
       "4   37       Initmates        Intimate       Swim  Great for bigger busts   \n",
       "\n",
       "                                         review_text  alike_feedback_count  \\\n",
       "0  Like other reviewers i was hesitant to spend t...                     0   \n",
       "1  As is true of a bunch of the fall clothing pho...                    12   \n",
       "2  I so wanted this skirt to work, love the desig...                     3   \n",
       "3  Love love this! i was hesitant to buy this at ...                     0   \n",
       "4  I absolutely love the retro look of this swims...                     0   \n",
       "\n",
       "   rating  recommend_index   \n",
       "0       5                 1  \n",
       "1       5                 1  \n",
       "2       1                 0  \n",
       "3       5                 1  \n",
       "4       5                 1  "
      ]
     },
     "execution_count": 3,
     "metadata": {},
     "output_type": "execute_result"
    }
   ],
   "source": [
    "df = df.drop(['s.no', 'clothing_id'], axis=1)\n",
    "df.head()"
   ]
  },
  {
   "cell_type": "code",
   "execution_count": 13,
   "id": "731bd3c0",
   "metadata": {},
   "outputs": [
    {
     "data": {
      "text/plain": [
       "General           13850\n",
       "General Petite     8120\n",
       "Initmates          1502\n",
       "Name: division_name, dtype: int64"
      ]
     },
     "execution_count": 13,
     "metadata": {},
     "output_type": "execute_result"
    }
   ],
   "source": [
    "df['division_name'].value_counts()"
   ]
  },
  {
   "cell_type": "code",
   "execution_count": 6,
   "id": "feff1ed4",
   "metadata": {},
   "outputs": [
    {
     "data": {
      "image/png": "[encoded data removed]",
      "text/plain": [
       "<Figure size 720x432 with 1 Axes>"
      ]
     },
     "metadata": {
      "needs_background": "light"
     },
     "output_type": "display_data"
    }
   ],
   "source": [
    "# Group the data by 'division_name' and 'rating'\n",
    "grouped = df.groupby(['division_name', 'rating']).size().unstack()\n",
    "\n",
    "# Create a stacked bar plot\n",
    "ax = grouped.plot(kind='bar', stacked=True, figsize=(10, 6))\n",
    "\n",
    "# Adding labels and title\n",
    "ax.set_xlabel('Division Name', fontsize=12)\n",
    "ax.set_ylabel('Count', fontsize=12)\n",
    "ax.set_title('Rating by Division', fontsize=14)\n",
    "\n",
    "# Show the plot\n",
    "plt.show()"
   ]
  },
  {
   "cell_type": "code",
   "execution_count": 14,
   "id": "0c7785d7",
   "metadata": {},
   "outputs": [
    {
     "data": {
      "image/png": "[encoded data removed]",
      "text/plain": [
       "<Figure size 720x432 with 1 Axes>"
      ]
     },
     "metadata": {
      "needs_background": "light"
     },
     "output_type": "display_data"
    }
   ],
   "source": [
    "# Define a custom color palette for ratings\n",
    "colors = ['#FF5733', '#FFC300', '#33FF57', '#33A2FF', '#C133FF']  # Assign colors to ratings 1 to 5\n",
    "\n",
    "# Group the data by 'division_name' and 'rating'\n",
    "grouped = df.groupby(['division_name', 'rating']).size().unstack()\n",
    "\n",
    "# Create a stacked bar plot with the custom color palette\n",
    "ax = grouped.plot(kind='bar', stacked=True, figsize=(10, 6), color=colors)\n",
    "\n",
    "# Adding labels and title\n",
    "ax.set_xlabel('Division Name', fontsize=12)\n",
    "ax.set_ylabel('Count', fontsize=12)\n",
    "ax.set_title('Rating by Division', fontsize=14)\n",
    "\n",
    "# Show the plot\n",
    "plt.show()\n"
   ]
  },
  {
   "cell_type": "code",
   "execution_count": null,
   "id": "4312dd93",
   "metadata": {},
   "outputs": [],
   "source": []
  }
 ],
 "metadata": {
  "kernelspec": {
   "display_name": "Python 3 (ipykernel)",
   "language": "python",
   "name": "python3"
  },
  "language_info": {
   "codemirror_mode": {
    "name": "ipython",
    "version": 3
   },
   "file_extension": ".py",
   "mimetype": "text/x-python",
   "name": "python",
   "nbconvert_exporter": "python",
   "pygments_lexer": "ipython3",
   "version": "3.9.12"
  }
 },
 "nbformat": 4,
 "nbformat_minor": 5
}
